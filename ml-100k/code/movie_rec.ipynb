{
 "cells": [
  {
   "cell_type": "code",
   "execution_count": 1,
   "metadata": {
    "collapsed": true
   },
   "outputs": [],
   "source": [
    "import codecs\n",
    "from math import sqrt"
   ]
  },
  {
   "cell_type": "code",
   "execution_count": 3,
   "metadata": {
    "collapsed": false
   },
   "outputs": [],
   "source": [
    "class recommender:\n",
    "    \n",
    "    def __init__(self, data, k=1, metric='pearson', n=5):\n",
    "        self.k = k\n",
    "        self.n = n\n",
    "        self.username2id = {}\n",
    "        self.userid2name = {}\n",
    "        self.productid2name = {} \n",
    "        self.frequencies = {}\n",
    "        self.deviations = {}\n",
    "        self.metric = metric\n",
    "        if self.metric == 'pearson':\n",
    "            self.fn = self.pearson\n",
    "      \n",
    "        if type(data).__name__ == 'dict':\n",
    "            self.data = data\n",
    "\n",
    "    def convertProductID2name(self, id):\n",
    "      if id in self.productid2name:\n",
    "         return self.productid2name[id]\n",
    "      else:\n",
    "         return id\n",
    "\n",
    "\n",
    "    def userRatings(self, id, n):\n",
    "      print (\"Ratings for \" + self.userid2name[id])\n",
    "      ratings = self.data[id]\n",
    "      print(len(ratings))\n",
    "      ratings = list(ratings.items())[:n]\n",
    "      ratings = [(self.convertProductID2name(k), v)\n",
    "                 for (k, v) in ratings]\n",
    "      ratings.sort(key=lambda artistTuple: artistTuple[1],\n",
    "                   reverse = True)      \n",
    "      for rating in ratings:\n",
    "         print(\"%s\\t%i\" % (rating[0], rating[1]))\n",
    "\n",
    "\n",
    "    def showUserTopItems(self, user, n):\n",
    "      items = list(self.data[user].items())\n",
    "      items.sort(key=lambda itemTuple: itemTuple[1], reverse=True)\n",
    "      for i in range(n):\n",
    "         print(\"%s\\t%i\" % (self.convertProductID2name(items[i][0]),\n",
    "                           items[i][1]))\n",
    "            \n",
    "    def loadMovieLens(self, path=''):\n",
    "      self.data = {}\n",
    "      i = 0\n",
    "      f = codecs.open(path + \"u.data\", 'r', 'ascii')\n",
    "      for line in f:\n",
    "         i += 1\n",
    "         fields = line.split('\\t')\n",
    "         user = fields[0]\n",
    "         movie = fields[1]\n",
    "         rating = int(fields[2].strip().strip('\"'))\n",
    "         if user in self.data:\n",
    "            currentRatings = self.data[user]\n",
    "         else:\n",
    "            currentRatings = {}\n",
    "         currentRatings[movie] = rating\n",
    "         self.data[user] = currentRatings\n",
    "      f.close()\n",
    "      f = codecs.open(path + \"u.item\", 'r', 'iso8859-1', 'ignore')\n",
    "      \n",
    "      for line in f:\n",
    "         i += 1\n",
    "         fields = line.split('|')\n",
    "         mid = fields[0].strip()\n",
    "         title = fields[1].strip()\n",
    "         self.productid2name[mid] = title\n",
    "      f.close()\n",
    "      \n",
    "      f = open(path + \"u.user\")\n",
    "      for line in f:\n",
    "         i += 1\n",
    "         fields = line.split('|')\n",
    "         userid = fields[0].strip('\"')\n",
    "         self.userid2name[userid] = line\n",
    "         self.username2id[line] = userid\n",
    "      f.close()\n",
    "      print(i)\n",
    "\n",
    "                    \n",
    "        \n",
    "    def computeDeviations(self):\n",
    "      for ratings in self.data.values():\n",
    "         for (item, rating) in ratings.items():\n",
    "            self.frequencies.setdefault(item, {})\n",
    "            self.deviations.setdefault(item, {})                    \n",
    "            for (item2, rating2) in ratings.items():\n",
    "               if item != item2:\n",
    "                  self.frequencies[item].setdefault(item2, 0)\n",
    "                  self.deviations[item].setdefault(item2, 0.0)\n",
    "                  self.frequencies[item][item2] += 1\n",
    "                  self.deviations[item][item2] += rating - rating2\n",
    "        \n",
    "      for (item, ratings) in self.deviations.items():\n",
    "         for item2 in ratings:\n",
    "            ratings[item2] /= self.frequencies[item][item2]\n",
    "\n",
    "\n",
    "    def slopeOneRecommendations(self, userRatings):\n",
    "      recommendations = {}\n",
    "      frequencies = {}\n",
    "      for (userItem, userRating) in userRatings.items():\n",
    "         for (diffItem, diffRatings) in self.deviations.items():\n",
    "            if diffItem not in userRatings and \\\n",
    "               userItem in self.deviations[diffItem]:\n",
    "               freq = self.frequencies[diffItem][userItem]\n",
    "               recommendations.setdefault(diffItem, 0.0)\n",
    "               frequencies.setdefault(diffItem, 0)\n",
    "               recommendations[diffItem] += (diffRatings[userItem] +\n",
    "                                             userRating) * freq\n",
    "               \n",
    "               frequencies[diffItem] += freq\n",
    "      recommendations =  [(self.convertProductID2name(k),\n",
    "                           v / frequencies[k])\n",
    "                          for (k, v) in recommendations.items()]\n",
    "      \n",
    "      recommendations.sort(key=lambda artistTuple: artistTuple[1],\n",
    "                           reverse = True)\n",
    "      \n",
    "      return recommendations[:50]\n",
    "        \n",
    "    def pearson(self, rating1, rating2):\n",
    "      sum_xy = 0\n",
    "      sum_x = 0\n",
    "      sum_y = 0\n",
    "      sum_x2 = 0\n",
    "      sum_y2 = 0\n",
    "      n = 0\n",
    "      for key in rating1:\n",
    "         if key in rating2:\n",
    "            n += 1\n",
    "            x = rating1[key]\n",
    "            y = rating2[key]\n",
    "            sum_xy += x * y\n",
    "            sum_x += x\n",
    "            sum_y += y\n",
    "            sum_x2 += pow(x, 2)\n",
    "            sum_y2 += pow(y, 2)\n",
    "      if n == 0:\n",
    "         return 0\n",
    "      \n",
    "      denominator = sqrt(sum_x2 - pow(sum_x, 2) / n) * \\\n",
    "                    sqrt(sum_y2 - pow(sum_y, 2) / n)\n",
    "      if denominator == 0:\n",
    "         return 0\n",
    "      else:\n",
    "         return (sum_xy - (sum_x * sum_y) / n) / denominator\n",
    "\n",
    "\n",
    "    def computeNearestNeighbor(self, username):\n",
    "      distances = []\n",
    "      for instance in self.data:\n",
    "         if instance != username:\n",
    "            distance = self.fn(self.data[username],\n",
    "                               self.data[instance])\n",
    "            distances.append((instance, distance))\n",
    "      \n",
    "      distances.sort(key=lambda artistTuple: artistTuple[1],\n",
    "                     reverse=True)\n",
    "      return distances\n",
    "\n",
    "    def recommend(self, user):\n",
    "      \n",
    "      recommendations = {}\n",
    "      \n",
    "      nearest = self.computeNearestNeighbor(user)\n",
    "      \n",
    "      userRatings = self.data[user]\n",
    "      \n",
    "      totalDistance = 0.0\n",
    "      for i in range(self.k):\n",
    "         totalDistance += nearest[i][1]\n",
    "      \n",
    "      for i in range(self.k):\n",
    "          \n",
    "         weight = nearest[i][1] / totalDistance\n",
    "         \n",
    "         name = nearest[i][0]\n",
    "         \n",
    "         neighborRatings = self.data[name]\n",
    "         \n",
    "         for artist in neighborRatings:\n",
    "            if not artist in userRatings:\n",
    "               if artist not in recommendations:\n",
    "                  recommendations[artist] = neighborRatings[artist] * \\\n",
    "                                            weight\n",
    "               else:\n",
    "                  recommendations[artist] = recommendations[artist] + \\\n",
    "                                            neighborRatings[artist] * \\\n",
    "                                            weight\n",
    "      \n",
    "      recommendations = list(recommendations.items())[:self.n]\n",
    "      recommendations = [(self.convertProductID2name(k), v)\n",
    "                         for (k, v) in recommendations]\n",
    "      \n",
    "      recommendations.sort(key=lambda artistTuple: artistTuple[1],\n",
    "                           reverse = True)\n",
    "      return recommendations"
   ]
  },
  {
   "cell_type": "code",
   "execution_count": 4,
   "metadata": {
    "collapsed": true
   },
   "outputs": [],
   "source": [
    "r = recommender(0)"
   ]
  },
  {
   "cell_type": "code",
   "execution_count": 5,
   "metadata": {
    "collapsed": false
   },
   "outputs": [
    {
     "name": "stdout",
     "output_type": "stream",
     "text": [
      "102625\n"
     ]
    }
   ],
   "source": [
    "r.loadMovieLens('/home/ubuntu/my_data/ml-100k/')"
   ]
  },
  {
   "cell_type": "code",
   "execution_count": 6,
   "metadata": {
    "collapsed": false,
    "scrolled": true
   },
   "outputs": [
    {
     "name": "stdout",
     "output_type": "stream",
     "text": [
      "When Harry Met Sally... (1989)\t5\n",
      "Jean de Florette (1986)\t5\n",
      "Godfather, The (1972)\t5\n",
      "Big Night (1996)\t5\n",
      "Manon of the Spring (Manon des sources) (1986)\t5\n",
      "Sling Blade (1996)\t5\n",
      "Breaking the Waves (1996)\t5\n",
      "Terminator 2: Judgment Day (1991)\t5\n",
      "Searching for Bobby Fischer (1993)\t5\n",
      "Maya Lin: A Strong Clear Vision (1994)\t5\n",
      "Mighty Aphrodite (1995)\t5\n",
      "Bound (1996)\t5\n",
      "Full Monty, The (1997)\t5\n",
      "Chasing Amy (1997)\t5\n",
      "Ridicule (1996)\t5\n",
      "Nightmare Before Christmas, The (1993)\t5\n",
      "Three Colors: Red (1994)\t5\n",
      "Professional, The (1994)\t5\n",
      "Priest (1994)\t5\n",
      "Welcome to the Dollhouse (1995)\t5\n",
      "Terminator, The (1984)\t5\n",
      "Graduate, The (1967)\t5\n",
      "Dead Poets Society (1989)\t5\n",
      "Amadeus (1984)\t5\n",
      "Henry V (1989)\t5\n",
      "Star Wars (1977)\t5\n",
      "Gattaca (1997)\t5\n",
      "Wallace & Gromit: The Best of Aardman Animation (1996)\t5\n",
      "Groundhog Day (1993)\t5\n",
      "Truth About Cats & Dogs, The (1996)\t5\n",
      "Horseman on the Roof, The (Hussard sur le toit, Le) (1995)\t5\n",
      "Jurassic Park (1993)\t5\n",
      "Return of the Jedi (1983)\t5\n",
      "Hudsucker Proxy, The (1994)\t5\n",
      "Remains of the Day, The (1993)\t5\n",
      "Nikita (La Femme Nikita) (1990)\t5\n",
      "Princess Bride, The (1987)\t5\n",
      "Empire Strikes Back, The (1980)\t5\n",
      "Cinema Paradiso (1988)\t5\n",
      "Haunted World of Edward D. Wood Jr., The (1995)\t5\n",
      "12 Angry Men (1957)\t5\n",
      "Kids in the Hall: Brain Candy (1996)\t5\n",
      "Chasing Amy (1997)\t5\n",
      "Kolya (1996)\t5\n",
      "Fargo (1996)\t5\n",
      "Crumb (1994)\t5\n",
      "Mystery Science Theater 3000: The Movie (1996)\t5\n",
      "Cyrano de Bergerac (1990)\t5\n",
      "Aliens (1986)\t5\n",
      "Three Colors: Blue (1993)\t5\n"
     ]
    }
   ],
   "source": [
    "r.showUserTopItems('1',50)"
   ]
  },
  {
   "cell_type": "code",
   "execution_count": 7,
   "metadata": {
    "collapsed": false
   },
   "outputs": [],
   "source": [
    "r.computeDeviations()"
   ]
  },
  {
   "cell_type": "code",
   "execution_count": 8,
   "metadata": {
    "collapsed": false,
    "scrolled": true
   },
   "outputs": [
    {
     "data": {
      "text/plain": [
       "[(u'Entertaining Angels: The Dorothy Day Story (1996)', 6.375),\n",
       " (u'Aiqing wansui (1994)', 5.849056603773585),\n",
       " (u'Boys, Les (1997)', 5.644970414201183),\n",
       " (u\"Someone Else's America (1995)\", 5.391304347826087),\n",
       " (u'Santa with Muscles (1996)', 5.380952380952381),\n",
       " (u'Great Day in Harlem, A (1994)', 5.275862068965517),\n",
       " (u'Little City (1998)', 5.236363636363636),\n",
       " (u'Pather Panchali (1955)', 5.209612817089453),\n",
       " (u'Saint of Fort Washington, The (1993)', 5.201754385964913),\n",
       " (u\"Some Mother's Son (1996)\", 5.154471544715447),\n",
       " (u'Faust (1994)', 5.127450980392157),\n",
       " (u'Angel Baby (1995)', 5.021671826625387),\n",
       " (u'Butcher Boy, The (1998)', 4.966101694915254),\n",
       " (u'Spanish Prisoner, The (1997)', 4.966101694915254),\n",
       " (u'Butcher Boy, The (1998)', 4.966101694915254),\n",
       " (u'Brothers in Trouble (1995)', 4.966101694915254),\n",
       " (u'Anna (1996)', 4.932),\n",
       " (u'Bitter Sugar (Azucar Amargo) (1996)', 4.897689768976898),\n",
       " (u'They Made Me a Criminal (1939)', 4.853932584269663),\n",
       " (u'Mina Tannenbaum (1994)', 4.8479809976247035),\n",
       " (u'Lady of Burlesque (1943)', 4.8471337579617835),\n",
       " (u'Damsel in Distress, A (1937)', 4.8471337579617835),\n",
       " (u'Crossfire (1947)', 4.795221843003413),\n",
       " (u'Celestial Clockwork (1994)', 4.739393939393939),\n",
       " (u'Close Shave, A (1995)', 4.726250906453952),\n",
       " (u'Kaspar Hauser (1993)', 4.709150326797386),\n",
       " (u'Hearts and Minds (1996)', 4.7011494252873565),\n",
       " (u'Marlene Dietrich: Shadow and Light (1996)', 4.689320388349515),\n",
       " (u'Casablanca (1942)', 4.67981560060768),\n",
       " (u\"Schindler's List (1993)\", 4.628353671967928),\n",
       " (u'Fille seule, La (A Single Girl) (1995)', 4.624277456647399),\n",
       " (u'He Walked by Night (1948)', 4.613636363636363),\n",
       " (u'Rear Window (1954)', 4.581766452251361),\n",
       " (u'Some Folks Call It a Sling Blade (1993)', 4.573160873080032),\n",
       " (u'Hard Eight (1996)', 4.557741659538067),\n",
       " (u'Nico Icon (1995)', 4.542087542087542),\n",
       " (u'Prefontaine (1997)', 4.53757225433526),\n",
       " (u'Secrets & Lies (1996)', 4.534787552982529),\n",
       " (u'Safe (1995)', 4.514070006863418),\n",
       " (u'Third Man, The (1949)', 4.507483466759485),\n",
       " (u'Whole Wide World, The (1996)', 4.507281553398058),\n",
       " (u'Lawrence of Arabia (1962)', 4.494218022845861),\n",
       " (u'North by Northwest (1959)', 4.489735464315238),\n",
       " (u'Raise the Red Lantern (1991)', 4.482798970278493),\n",
       " (u'Dr. Strangelove or: How I Learned to Stop Worrying and Love the Bomb (1963)',\n",
       "  4.4823841698841695),\n",
       " (u'Fresh (1994)', 4.477443609022556),\n",
       " (u\"One Flew Over the Cuckoo's Nest (1975)\", 4.477127303982428),\n",
       " (u'A Chef in Love (1996)', 4.475460122699387),\n",
       " (u'Waiting for Guffman (1996)', 4.4721643346233995),\n",
       " (u'To Kill a Mockingbird (1962)', 4.464825460795353)]"
      ]
     },
     "execution_count": 8,
     "metadata": {},
     "output_type": "execute_result"
    }
   ],
   "source": [
    "r.slopeOneRecommendations(r.data['1'])"
   ]
  },
  {
   "cell_type": "code",
   "execution_count": 9,
   "metadata": {
    "collapsed": false,
    "scrolled": true
   },
   "outputs": [
    {
     "data": {
      "text/plain": [
       "[(u'Aiqing wansui (1994)', 5.674418604651163),\n",
       " (u'Boys, Les (1997)', 5.523076923076923),\n",
       " (u'Star Kid (1997)', 5.5),\n",
       " (u'Santa with Muscles (1996)', 5.260869565217392),\n",
       " (u'Faust (1994)', 5.204081632653061),\n",
       " (u'Great Day in Harlem, A (1994)', 5.2),\n",
       " (u'Angel Baby (1995)', 5.184466019417476),\n",
       " (u'Saint of Fort Washington, The (1993)', 5.178571428571429),\n",
       " (u'Celestial Clockwork (1994)', 5.159090909090909),\n",
       " (u'Anna (1996)', 5.139240506329114),\n",
       " (u\"Some Mother's Son (1996)\", 5.064102564102564),\n",
       " (u'Nightwatch (1997)', 5.0),\n",
       " (u'Little City (1998)', 5.0),\n",
       " (u'They Made Me a Criminal (1939)', 4.956521739130435),\n",
       " (u'Pather Panchali (1955)', 4.950331125827814),\n",
       " (u'Mina Tannenbaum (1994)', 4.9393939393939394),\n",
       " (u'Butcher Boy, The (1998)', 4.925925925925926),\n",
       " (u'Spanish Prisoner, The (1997)', 4.925925925925926),\n",
       " (u'Butcher Boy, The (1998)', 4.925925925925926),\n",
       " (u'Brothers in Trouble (1995)', 4.925925925925926),\n",
       " (u\"Someone Else's America (1995)\", 4.837209302325581),\n",
       " (u'Entertaining Angels: The Dorothy Day Story (1996)', 4.8),\n",
       " (u'Bitter Sugar (Azucar Amargo) (1996)', 4.701754385964913),\n",
       " (u'Desert Winds (1995)', 4.7),\n",
       " (u'Crossfire (1947)', 4.639705882352941),\n",
       " (u'Kaspar Hauser (1993)', 4.632286995515695),\n",
       " (u'Lady of Burlesque (1943)', 4.629032258064516),\n",
       " (u'Damsel in Distress, A (1937)', 4.629032258064516),\n",
       " (u\"Schindler's List (1993)\", 4.627592528933196),\n",
       " (u'Casablanca (1942)', 4.616493802175563),\n",
       " (u'Hard Eight (1996)', 4.60545905707196),\n",
       " (u'Fille seule, La (A Single Girl) (1995)', 4.5963302752293576),\n",
       " (u'Shawshank Redemption, The (1994)', 4.590809879379667),\n",
       " (u\"Margaret's Museum (1995)\", 4.573684210526316),\n",
       " (u'Usual Suspects, The (1995)', 4.571623974135787),\n",
       " (u'A Chef in Love (1996)', 4.564814814814815),\n",
       " (u'Horseman on the Roof, The (Hussard sur le toit, Le) (1995)',\n",
       "  4.563380281690141),\n",
       " (u'Shall We Dance? (1996)', 4.556779661016949),\n",
       " (u'Some Folks Call It a Sling Blade (1993)', 4.536652835408022),\n",
       " (u'Stonewall (1995)', 4.533333333333333),\n",
       " (u'Fresh (1994)', 4.530701754385965),\n",
       " (u'Rear Window (1954)', 4.524981357196122),\n",
       " (u'Maya Lin: A Strong Clear Vision (1994)', 4.510869565217392),\n",
       " (u'Nico Icon (1995)', 4.505263157894737),\n",
       " (u'Tokyo Fist (1995)', 4.5),\n",
       " (u'Big Bang Theory, The (1994)', 4.5),\n",
       " (u'Prefontaine (1997)', 4.495652173913044),\n",
       " (u'Good Will Hunting (1997)', 4.490081028220173),\n",
       " (u'Whole Wide World, The (1996)', 4.489285714285714),\n",
       " (u'He Walked by Night (1948)', 4.485714285714286)]"
      ]
     },
     "execution_count": 9,
     "metadata": {},
     "output_type": "execute_result"
    }
   ],
   "source": [
    "r.slopeOneRecommendations(r.data['25'])"
   ]
  },
  {
   "cell_type": "code",
   "execution_count": 10,
   "metadata": {
    "collapsed": false
   },
   "outputs": [
    {
     "name": "stdout",
     "output_type": "stream",
     "text": [
      "Ratings for 1|24|M|technician|85711\n",
      "\n",
      "272\n",
      "When Harry Met Sally... (1989)\t5\n",
      "Jean de Florette (1986)\t5\n",
      "Godfather, The (1972)\t5\n",
      "Pink Floyd - The Wall (1982)\t4\n",
      "Unbearable Lightness of Being, The (1988)\t4\n",
      "Indiana Jones and the Last Crusade (1989)\t4\n",
      "Bram Stoker's Dracula (1992)\t3\n",
      "Field of Dreams (1989)\t3\n",
      "M*A*S*H (1970)\t3\n",
      "Room with a View, A (1986)\t2\n"
     ]
    }
   ],
   "source": [
    "r.userRatings('1',10)"
   ]
  },
  {
   "cell_type": "code",
   "execution_count": null,
   "metadata": {
    "collapsed": true
   },
   "outputs": [],
   "source": []
  },
  {
   "cell_type": "code",
   "execution_count": null,
   "metadata": {
    "collapsed": true
   },
   "outputs": [],
   "source": []
  },
  {
   "cell_type": "code",
   "execution_count": null,
   "metadata": {
    "collapsed": true
   },
   "outputs": [],
   "source": []
  }
 ],
 "metadata": {
  "kernelspec": {
   "display_name": "Python 2",
   "language": "python",
   "name": "python2"
  },
  "language_info": {
   "codemirror_mode": {
    "name": "ipython",
    "version": 2
   },
   "file_extension": ".py",
   "mimetype": "text/x-python",
   "name": "python",
   "nbconvert_exporter": "python",
   "pygments_lexer": "ipython2",
   "version": "2.7.11"
  }
 },
 "nbformat": 4,
 "nbformat_minor": 0
}
