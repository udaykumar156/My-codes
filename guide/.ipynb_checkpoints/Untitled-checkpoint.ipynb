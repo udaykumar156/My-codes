{
 "cells": [
  {
   "cell_type": "code",
   "execution_count": 1,
   "metadata": {
    "collapsed": true
   },
   "outputs": [],
   "source": [
    "import codecs\n",
    "from math import sqrt"
   ]
  },
  {
   "cell_type": "code",
   "execution_count": null,
   "metadata": {
    "collapsed": false
   },
   "outputs": [],
   "source": [
    "codecs"
   ]
  },
  {
   "cell_type": "code",
   "execution_count": 2,
   "metadata": {
    "collapsed": true
   },
   "outputs": [],
   "source": [
    "users = {\"Angelica\": {\"Blues Traveler\": 3.5, \"Broken Bells\": 2.0,\n",
    "                      \"Norah Jones\": 4.5, \"Phoenix\": 5.0,\n",
    "                      \"Slightly Stoopid\": 1.5,\n",
    "                      \"The Strokes\": 2.5, \"Vampire Weekend\": 2.0},\n",
    "\n",
    "         \"Bill\": {\"Blues Traveler\": 2.0, \"Broken Bells\": 3.5,\n",
    "                  \"Deadmau5\": 4.0, \"Phoenix\": 2.0,\n",
    "                  \"Slightly Stoopid\": 3.5, \"Vampire Weekend\": 3.0},\n",
    "                               \n",
    "         \"Chan\": {\"Blues Traveler\": 5.0, \"Broken Bells\": 1.0,\n",
    "                  \"Deadmau5\": 1.0, \"Norah Jones\": 3.0,\n",
    "                  \"Phoenix\": 5, \"Slightly Stoopid\": 1.0},\n",
    "                               \n",
    "         \"Dan\": {\"Blues Traveler\": 3.0, \"Broken Bells\": 4.0,\n",
    "                 \"Deadmau5\": 4.5, \"Phoenix\": 3.0,\n",
    "                 \"Slightly Stoopid\": 4.5, \"The Strokes\": 4.0,\n",
    "                 \"Vampire Weekend\": 2.0},\n",
    "                               \n",
    "         \"Hailey\": {\"Broken Bells\": 4.0, \"Deadmau5\": 1.0,\n",
    "                    \"Norah Jones\": 4.0, \"The Strokes\": 4.0,\n",
    "                    \"Vampire Weekend\": 1.0},\n",
    "                      \n",
    "         \"Jordyn\": {\"Broken Bells\": 4.5, \"Deadmau5\": 4.0, \"Norah Jones\": 5.0,\n",
    "                    \"Phoenix\": 5.0, \"Slightly Stoopid\": 4.5,\n",
    "                    \"The Strokes\": 4.0, \"Vampire Weekend\": 4.0},\n",
    "                    \n",
    "         \"Sam\": {\"Blues Traveler\": 5.0, \"Broken Bells\": 2.0,\n",
    "                 \"Norah Jones\": 3.0, \"Phoenix\": 5.0,\n",
    "                 \"Slightly Stoopid\": 4.0, \"The Strokes\": 5.0},\n",
    "                 \n",
    "         \"Veronica\": {\"Blues Traveler\": 3.0, \"Norah Jones\": 5.0,\n",
    "                      \"Phoenix\": 4.0, \"Slightly Stoopid\": 2.5,\n",
    "                      \"The Strokes\": 3.0}\n",
    "        }"
   ]
  },
  {
   "cell_type": "code",
   "execution_count": 3,
   "metadata": {
    "collapsed": false
   },
   "outputs": [
    {
     "data": {
      "text/plain": [
       "{'Blues Traveler': 3.0,\n",
       " 'Broken Bells': 4.0,\n",
       " 'Deadmau5': 4.5,\n",
       " 'Phoenix': 3.0,\n",
       " 'Slightly Stoopid': 4.5,\n",
       " 'The Strokes': 4.0,\n",
       " 'Vampire Weekend': 2.0}"
      ]
     },
     "execution_count": 3,
     "metadata": {},
     "output_type": "execute_result"
    }
   ],
   "source": [
    "users['Dan']"
   ]
  },
  {
   "cell_type": "markdown",
   "metadata": {},
   "source": [
    "### MANHATAN DISTANCE ###"
   ]
  },
  {
   "cell_type": "code",
   "execution_count": 4,
   "metadata": {
    "collapsed": true
   },
   "outputs": [],
   "source": [
    "def manhatan(rating1, rating2):\n",
    "    distance = 0\n",
    "    for x in rating1:\n",
    "        if x in rating2:\n",
    "            distance += abs(rating1[x] - rating2[x])\n",
    "    return distance"
   ]
  },
  {
   "cell_type": "code",
   "execution_count": 5,
   "metadata": {
    "collapsed": false
   },
   "outputs": [
    {
     "data": {
      "text/plain": [
       "2.0"
      ]
     },
     "execution_count": 5,
     "metadata": {},
     "output_type": "execute_result"
    }
   ],
   "source": [
    "manhatan(users['Hailey'], users['Veronica'])"
   ]
  },
  {
   "cell_type": "code",
   "execution_count": 6,
   "metadata": {
    "collapsed": false
   },
   "outputs": [
    {
     "data": {
      "text/plain": [
       "7.5"
      ]
     },
     "execution_count": 6,
     "metadata": {},
     "output_type": "execute_result"
    }
   ],
   "source": [
    "manhatan(users['Hailey'], users['Jordyn'])"
   ]
  },
  {
   "cell_type": "markdown",
   "metadata": {},
   "source": [
    "### CLOSEST PERSON ###"
   ]
  },
  {
   "cell_type": "code",
   "execution_count": 7,
   "metadata": {
    "collapsed": true
   },
   "outputs": [],
   "source": [
    "def computeNearestNeighbour(username, users):\n",
    "    distances = []\n",
    "    for user in users:\n",
    "        if user != username:\n",
    "            distance = manhatan(users[user], users[username])\n",
    "            distances.append((distance,user))\n",
    "    distances.sort()\n",
    "    return distances"
   ]
  },
  {
   "cell_type": "code",
   "execution_count": 8,
   "metadata": {
    "collapsed": false
   },
   "outputs": [
    {
     "data": {
      "text/plain": [
       "[(2.0, 'Veronica'),\n",
       " (4.0, 'Chan'),\n",
       " (4.0, 'Sam'),\n",
       " (4.5, 'Dan'),\n",
       " (5.0, 'Angelica'),\n",
       " (5.5, 'Bill'),\n",
       " (7.5, 'Jordyn')]"
      ]
     },
     "execution_count": 8,
     "metadata": {},
     "output_type": "execute_result"
    }
   ],
   "source": [
    "computeNearestNeighbour(\"Hailey\", users)"
   ]
  },
  {
   "cell_type": "code",
   "execution_count": 9,
   "metadata": {
    "collapsed": true
   },
   "outputs": [],
   "source": [
    "def recommend(username, users):\n",
    "    nearest = computeNearestNeighbour(username, users)[0][1]\n",
    "    recommendations = []\n",
    "    neighbourRatings = users[nearest]\n",
    "    userRatings = users[username]\n",
    "    for artist in neighbourRatings:\n",
    "        if not artist in userRatings:\n",
    "            recommendations.append((artist, neighbourRatings[artist]))\n",
    "    return sorted(recommendations,\n",
    "                 key = lambda artistTuple: artistTuple[1],\n",
    "                 reverse = True)"
   ]
  },
  {
   "cell_type": "code",
   "execution_count": 10,
   "metadata": {
    "collapsed": false
   },
   "outputs": [
    {
     "data": {
      "text/plain": [
       "[('Phoenix', 4.0), ('Blues Traveler', 3.0), ('Slightly Stoopid', 2.5)]"
      ]
     },
     "execution_count": 10,
     "metadata": {},
     "output_type": "execute_result"
    }
   ],
   "source": [
    "recommend(\"Hailey\", users)"
   ]
  },
  {
   "cell_type": "code",
   "execution_count": null,
   "metadata": {
    "collapsed": true
   },
   "outputs": [],
   "source": []
  },
  {
   "cell_type": "code",
   "execution_count": 11,
   "metadata": {
    "collapsed": true
   },
   "outputs": [],
   "source": [
    "import pandas as pd"
   ]
  },
  {
   "cell_type": "code",
   "execution_count": 12,
   "metadata": {
    "collapsed": false
   },
   "outputs": [],
   "source": [
    "users_df = pd.DataFrame(users)"
   ]
  },
  {
   "cell_type": "code",
   "execution_count": 13,
   "metadata": {
    "collapsed": false
   },
   "outputs": [
    {
     "data": {
      "text/html": [
       "<div>\n",
       "<table border=\"1\" class=\"dataframe\">\n",
       "  <thead>\n",
       "    <tr style=\"text-align: right;\">\n",
       "      <th></th>\n",
       "      <th>Angelica</th>\n",
       "      <th>Bill</th>\n",
       "      <th>Chan</th>\n",
       "      <th>Dan</th>\n",
       "      <th>Hailey</th>\n",
       "      <th>Jordyn</th>\n",
       "      <th>Sam</th>\n",
       "      <th>Veronica</th>\n",
       "    </tr>\n",
       "  </thead>\n",
       "  <tbody>\n",
       "    <tr>\n",
       "      <th>Blues Traveler</th>\n",
       "      <td>3.5</td>\n",
       "      <td>2.0</td>\n",
       "      <td>5.0</td>\n",
       "      <td>3.0</td>\n",
       "      <td>NaN</td>\n",
       "      <td>NaN</td>\n",
       "      <td>5.0</td>\n",
       "      <td>3.0</td>\n",
       "    </tr>\n",
       "    <tr>\n",
       "      <th>Broken Bells</th>\n",
       "      <td>2.0</td>\n",
       "      <td>3.5</td>\n",
       "      <td>1.0</td>\n",
       "      <td>4.0</td>\n",
       "      <td>4.0</td>\n",
       "      <td>4.5</td>\n",
       "      <td>2.0</td>\n",
       "      <td>NaN</td>\n",
       "    </tr>\n",
       "    <tr>\n",
       "      <th>Deadmau5</th>\n",
       "      <td>NaN</td>\n",
       "      <td>4.0</td>\n",
       "      <td>1.0</td>\n",
       "      <td>4.5</td>\n",
       "      <td>1.0</td>\n",
       "      <td>4.0</td>\n",
       "      <td>NaN</td>\n",
       "      <td>NaN</td>\n",
       "    </tr>\n",
       "    <tr>\n",
       "      <th>Norah Jones</th>\n",
       "      <td>4.5</td>\n",
       "      <td>NaN</td>\n",
       "      <td>3.0</td>\n",
       "      <td>NaN</td>\n",
       "      <td>4.0</td>\n",
       "      <td>5.0</td>\n",
       "      <td>3.0</td>\n",
       "      <td>5.0</td>\n",
       "    </tr>\n",
       "    <tr>\n",
       "      <th>Phoenix</th>\n",
       "      <td>5.0</td>\n",
       "      <td>2.0</td>\n",
       "      <td>5.0</td>\n",
       "      <td>3.0</td>\n",
       "      <td>NaN</td>\n",
       "      <td>5.0</td>\n",
       "      <td>5.0</td>\n",
       "      <td>4.0</td>\n",
       "    </tr>\n",
       "    <tr>\n",
       "      <th>Slightly Stoopid</th>\n",
       "      <td>1.5</td>\n",
       "      <td>3.5</td>\n",
       "      <td>1.0</td>\n",
       "      <td>4.5</td>\n",
       "      <td>NaN</td>\n",
       "      <td>4.5</td>\n",
       "      <td>4.0</td>\n",
       "      <td>2.5</td>\n",
       "    </tr>\n",
       "    <tr>\n",
       "      <th>The Strokes</th>\n",
       "      <td>2.5</td>\n",
       "      <td>NaN</td>\n",
       "      <td>NaN</td>\n",
       "      <td>4.0</td>\n",
       "      <td>4.0</td>\n",
       "      <td>4.0</td>\n",
       "      <td>5.0</td>\n",
       "      <td>3.0</td>\n",
       "    </tr>\n",
       "    <tr>\n",
       "      <th>Vampire Weekend</th>\n",
       "      <td>2.0</td>\n",
       "      <td>3.0</td>\n",
       "      <td>NaN</td>\n",
       "      <td>2.0</td>\n",
       "      <td>1.0</td>\n",
       "      <td>4.0</td>\n",
       "      <td>NaN</td>\n",
       "      <td>NaN</td>\n",
       "    </tr>\n",
       "  </tbody>\n",
       "</table>\n",
       "</div>"
      ],
      "text/plain": [
       "                  Angelica  Bill  Chan  Dan  Hailey  Jordyn  Sam  Veronica\n",
       "Blues Traveler         3.5   2.0   5.0  3.0     NaN     NaN  5.0       3.0\n",
       "Broken Bells           2.0   3.5   1.0  4.0     4.0     4.5  2.0       NaN\n",
       "Deadmau5               NaN   4.0   1.0  4.5     1.0     4.0  NaN       NaN\n",
       "Norah Jones            4.5   NaN   3.0  NaN     4.0     5.0  3.0       5.0\n",
       "Phoenix                5.0   2.0   5.0  3.0     NaN     5.0  5.0       4.0\n",
       "Slightly Stoopid       1.5   3.5   1.0  4.5     NaN     4.5  4.0       2.5\n",
       "The Strokes            2.5   NaN   NaN  4.0     4.0     4.0  5.0       3.0\n",
       "Vampire Weekend        2.0   3.0   NaN  2.0     1.0     4.0  NaN       NaN"
      ]
     },
     "execution_count": 13,
     "metadata": {},
     "output_type": "execute_result"
    }
   ],
   "source": [
    "users_df"
   ]
  },
  {
   "cell_type": "code",
   "execution_count": 34,
   "metadata": {
    "collapsed": true
   },
   "outputs": [],
   "source": [
    "from scipy.spatial.distance import cosine"
   ]
  },
  {
   "cell_type": "code",
   "execution_count": 38,
   "metadata": {
    "collapsed": false
   },
   "outputs": [],
   "source": [
    "users_df = users_df.fillna(0)"
   ]
  },
  {
   "cell_type": "code",
   "execution_count": 47,
   "metadata": {
    "collapsed": false
   },
   "outputs": [
    {
     "data": {
      "text/html": [
       "<div>\n",
       "<table border=\"1\" class=\"dataframe\">\n",
       "  <thead>\n",
       "    <tr style=\"text-align: right;\">\n",
       "      <th></th>\n",
       "      <th>Angelica</th>\n",
       "      <th>Bill</th>\n",
       "      <th>Chan</th>\n",
       "      <th>Dan</th>\n",
       "      <th>Hailey</th>\n",
       "      <th>Jordyn</th>\n",
       "      <th>Sam</th>\n",
       "      <th>Veronica</th>\n",
       "    </tr>\n",
       "  </thead>\n",
       "  <tbody>\n",
       "    <tr>\n",
       "      <th>Blues Traveler</th>\n",
       "      <td>3.5</td>\n",
       "      <td>2.0</td>\n",
       "      <td>5.0</td>\n",
       "      <td>3.0</td>\n",
       "      <td>0.0</td>\n",
       "      <td>0.0</td>\n",
       "      <td>5.0</td>\n",
       "      <td>3.0</td>\n",
       "    </tr>\n",
       "    <tr>\n",
       "      <th>Broken Bells</th>\n",
       "      <td>2.0</td>\n",
       "      <td>3.5</td>\n",
       "      <td>1.0</td>\n",
       "      <td>4.0</td>\n",
       "      <td>4.0</td>\n",
       "      <td>4.5</td>\n",
       "      <td>2.0</td>\n",
       "      <td>0.0</td>\n",
       "    </tr>\n",
       "    <tr>\n",
       "      <th>Deadmau5</th>\n",
       "      <td>0.0</td>\n",
       "      <td>4.0</td>\n",
       "      <td>1.0</td>\n",
       "      <td>4.5</td>\n",
       "      <td>1.0</td>\n",
       "      <td>4.0</td>\n",
       "      <td>0.0</td>\n",
       "      <td>0.0</td>\n",
       "    </tr>\n",
       "    <tr>\n",
       "      <th>Norah Jones</th>\n",
       "      <td>4.5</td>\n",
       "      <td>0.0</td>\n",
       "      <td>3.0</td>\n",
       "      <td>0.0</td>\n",
       "      <td>4.0</td>\n",
       "      <td>5.0</td>\n",
       "      <td>3.0</td>\n",
       "      <td>5.0</td>\n",
       "    </tr>\n",
       "    <tr>\n",
       "      <th>Phoenix</th>\n",
       "      <td>5.0</td>\n",
       "      <td>2.0</td>\n",
       "      <td>5.0</td>\n",
       "      <td>3.0</td>\n",
       "      <td>0.0</td>\n",
       "      <td>5.0</td>\n",
       "      <td>5.0</td>\n",
       "      <td>4.0</td>\n",
       "    </tr>\n",
       "    <tr>\n",
       "      <th>Slightly Stoopid</th>\n",
       "      <td>1.5</td>\n",
       "      <td>3.5</td>\n",
       "      <td>1.0</td>\n",
       "      <td>4.5</td>\n",
       "      <td>0.0</td>\n",
       "      <td>4.5</td>\n",
       "      <td>4.0</td>\n",
       "      <td>2.5</td>\n",
       "    </tr>\n",
       "    <tr>\n",
       "      <th>The Strokes</th>\n",
       "      <td>2.5</td>\n",
       "      <td>0.0</td>\n",
       "      <td>0.0</td>\n",
       "      <td>4.0</td>\n",
       "      <td>4.0</td>\n",
       "      <td>4.0</td>\n",
       "      <td>5.0</td>\n",
       "      <td>3.0</td>\n",
       "    </tr>\n",
       "    <tr>\n",
       "      <th>Vampire Weekend</th>\n",
       "      <td>2.0</td>\n",
       "      <td>3.0</td>\n",
       "      <td>0.0</td>\n",
       "      <td>2.0</td>\n",
       "      <td>1.0</td>\n",
       "      <td>4.0</td>\n",
       "      <td>0.0</td>\n",
       "      <td>0.0</td>\n",
       "    </tr>\n",
       "  </tbody>\n",
       "</table>\n",
       "</div>"
      ],
      "text/plain": [
       "                  Angelica  Bill  Chan  Dan  Hailey  Jordyn  Sam  Veronica\n",
       "Blues Traveler         3.5   2.0   5.0  3.0     0.0     0.0  5.0       3.0\n",
       "Broken Bells           2.0   3.5   1.0  4.0     4.0     4.5  2.0       0.0\n",
       "Deadmau5               0.0   4.0   1.0  4.5     1.0     4.0  0.0       0.0\n",
       "Norah Jones            4.5   0.0   3.0  0.0     4.0     5.0  3.0       5.0\n",
       "Phoenix                5.0   2.0   5.0  3.0     0.0     5.0  5.0       4.0\n",
       "Slightly Stoopid       1.5   3.5   1.0  4.5     0.0     4.5  4.0       2.5\n",
       "The Strokes            2.5   0.0   0.0  4.0     4.0     4.0  5.0       3.0\n",
       "Vampire Weekend        2.0   3.0   0.0  2.0     1.0     4.0  0.0       0.0"
      ]
     },
     "execution_count": 47,
     "metadata": {},
     "output_type": "execute_result"
    }
   ],
   "source": [
    "users_df"
   ]
  },
  {
   "cell_type": "code",
   "execution_count": null,
   "metadata": {
    "collapsed": true
   },
   "outputs": [],
   "source": []
  },
  {
   "cell_type": "code",
   "execution_count": 40,
   "metadata": {
    "collapsed": false
   },
   "outputs": [
    {
     "data": {
      "text/plain": [
       "0.92462794322100683"
      ]
     },
     "execution_count": 40,
     "metadata": {},
     "output_type": "execute_result"
    }
   ],
   "source": [
    "1 - cosine(users_df['Angelica'],users_df['Veronica'])"
   ]
  },
  {
   "cell_type": "code",
   "execution_count": 48,
   "metadata": {
    "collapsed": false
   },
   "outputs": [
    {
     "data": {
      "text/plain": [
       "0.54039253261559606"
      ]
     },
     "execution_count": 48,
     "metadata": {},
     "output_type": "execute_result"
    }
   ],
   "source": [
    "1 - cosine(users_df['Angelica'],users_df['Bill'])"
   ]
  },
  {
   "cell_type": "code",
   "execution_count": 49,
   "metadata": {
    "collapsed": false
   },
   "outputs": [
    {
     "data": {
      "text/plain": [
       "0.7788000944992004"
      ]
     },
     "execution_count": 49,
     "metadata": {},
     "output_type": "execute_result"
    }
   ],
   "source": [
    "1 - cosine(users_df['Jordyn'],users_df['Bill'])"
   ]
  },
  {
   "cell_type": "code",
   "execution_count": 55,
   "metadata": {
    "collapsed": true
   },
   "outputs": [],
   "source": [
    "items1 = pd.DataFrame(index=users_df.index, columns=users_df.index) "
   ]
  },
  {
   "cell_type": "code",
   "execution_count": 56,
   "metadata": {
    "collapsed": false
   },
   "outputs": [
    {
     "data": {
      "text/html": [
       "<div>\n",
       "<table border=\"1\" class=\"dataframe\">\n",
       "  <thead>\n",
       "    <tr style=\"text-align: right;\">\n",
       "      <th></th>\n",
       "      <th>Blues Traveler</th>\n",
       "      <th>Broken Bells</th>\n",
       "      <th>Deadmau5</th>\n",
       "      <th>Norah Jones</th>\n",
       "      <th>Phoenix</th>\n",
       "      <th>Slightly Stoopid</th>\n",
       "      <th>The Strokes</th>\n",
       "      <th>Vampire Weekend</th>\n",
       "    </tr>\n",
       "  </thead>\n",
       "  <tbody>\n",
       "    <tr>\n",
       "      <th>Blues Traveler</th>\n",
       "      <td>NaN</td>\n",
       "      <td>NaN</td>\n",
       "      <td>NaN</td>\n",
       "      <td>NaN</td>\n",
       "      <td>NaN</td>\n",
       "      <td>NaN</td>\n",
       "      <td>NaN</td>\n",
       "      <td>NaN</td>\n",
       "    </tr>\n",
       "    <tr>\n",
       "      <th>Broken Bells</th>\n",
       "      <td>NaN</td>\n",
       "      <td>NaN</td>\n",
       "      <td>NaN</td>\n",
       "      <td>NaN</td>\n",
       "      <td>NaN</td>\n",
       "      <td>NaN</td>\n",
       "      <td>NaN</td>\n",
       "      <td>NaN</td>\n",
       "    </tr>\n",
       "    <tr>\n",
       "      <th>Deadmau5</th>\n",
       "      <td>NaN</td>\n",
       "      <td>NaN</td>\n",
       "      <td>NaN</td>\n",
       "      <td>NaN</td>\n",
       "      <td>NaN</td>\n",
       "      <td>NaN</td>\n",
       "      <td>NaN</td>\n",
       "      <td>NaN</td>\n",
       "    </tr>\n",
       "    <tr>\n",
       "      <th>Norah Jones</th>\n",
       "      <td>NaN</td>\n",
       "      <td>NaN</td>\n",
       "      <td>NaN</td>\n",
       "      <td>NaN</td>\n",
       "      <td>NaN</td>\n",
       "      <td>NaN</td>\n",
       "      <td>NaN</td>\n",
       "      <td>NaN</td>\n",
       "    </tr>\n",
       "    <tr>\n",
       "      <th>Phoenix</th>\n",
       "      <td>NaN</td>\n",
       "      <td>NaN</td>\n",
       "      <td>NaN</td>\n",
       "      <td>NaN</td>\n",
       "      <td>NaN</td>\n",
       "      <td>NaN</td>\n",
       "      <td>NaN</td>\n",
       "      <td>NaN</td>\n",
       "    </tr>\n",
       "    <tr>\n",
       "      <th>Slightly Stoopid</th>\n",
       "      <td>NaN</td>\n",
       "      <td>NaN</td>\n",
       "      <td>NaN</td>\n",
       "      <td>NaN</td>\n",
       "      <td>NaN</td>\n",
       "      <td>NaN</td>\n",
       "      <td>NaN</td>\n",
       "      <td>NaN</td>\n",
       "    </tr>\n",
       "    <tr>\n",
       "      <th>The Strokes</th>\n",
       "      <td>NaN</td>\n",
       "      <td>NaN</td>\n",
       "      <td>NaN</td>\n",
       "      <td>NaN</td>\n",
       "      <td>NaN</td>\n",
       "      <td>NaN</td>\n",
       "      <td>NaN</td>\n",
       "      <td>NaN</td>\n",
       "    </tr>\n",
       "    <tr>\n",
       "      <th>Vampire Weekend</th>\n",
       "      <td>NaN</td>\n",
       "      <td>NaN</td>\n",
       "      <td>NaN</td>\n",
       "      <td>NaN</td>\n",
       "      <td>NaN</td>\n",
       "      <td>NaN</td>\n",
       "      <td>NaN</td>\n",
       "      <td>NaN</td>\n",
       "    </tr>\n",
       "  </tbody>\n",
       "</table>\n",
       "</div>"
      ],
      "text/plain": [
       "                 Blues Traveler Broken Bells Deadmau5 Norah Jones Phoenix  \\\n",
       "Blues Traveler              NaN          NaN      NaN         NaN     NaN   \n",
       "Broken Bells                NaN          NaN      NaN         NaN     NaN   \n",
       "Deadmau5                    NaN          NaN      NaN         NaN     NaN   \n",
       "Norah Jones                 NaN          NaN      NaN         NaN     NaN   \n",
       "Phoenix                     NaN          NaN      NaN         NaN     NaN   \n",
       "Slightly Stoopid            NaN          NaN      NaN         NaN     NaN   \n",
       "The Strokes                 NaN          NaN      NaN         NaN     NaN   \n",
       "Vampire Weekend             NaN          NaN      NaN         NaN     NaN   \n",
       "\n",
       "                 Slightly Stoopid The Strokes Vampire Weekend  \n",
       "Blues Traveler                NaN         NaN             NaN  \n",
       "Broken Bells                  NaN         NaN             NaN  \n",
       "Deadmau5                      NaN         NaN             NaN  \n",
       "Norah Jones                   NaN         NaN             NaN  \n",
       "Phoenix                       NaN         NaN             NaN  \n",
       "Slightly Stoopid              NaN         NaN             NaN  \n",
       "The Strokes                   NaN         NaN             NaN  \n",
       "Vampire Weekend               NaN         NaN             NaN  "
      ]
     },
     "execution_count": 56,
     "metadata": {},
     "output_type": "execute_result"
    }
   ],
   "source": [
    "items1"
   ]
  },
  {
   "cell_type": "code",
   "execution_count": 57,
   "metadata": {
    "collapsed": true
   },
   "outputs": [],
   "source": [
    "for i in range(0,len(items1.columns)) :\n",
    "    for j in range(0,len(items1.columns)) :\n",
    "      items1.ix[i,j] = 1-cosine(users_df.ix[:,i],users_df.ix[:,j])"
   ]
  },
  {
   "cell_type": "code",
   "execution_count": 58,
   "metadata": {
    "collapsed": false
   },
   "outputs": [
    {
     "data": {
      "text/html": [
       "<div>\n",
       "<table border=\"1\" class=\"dataframe\">\n",
       "  <thead>\n",
       "    <tr style=\"text-align: right;\">\n",
       "      <th></th>\n",
       "      <th>Blues Traveler</th>\n",
       "      <th>Broken Bells</th>\n",
       "      <th>Deadmau5</th>\n",
       "      <th>Norah Jones</th>\n",
       "      <th>Phoenix</th>\n",
       "      <th>Slightly Stoopid</th>\n",
       "      <th>The Strokes</th>\n",
       "      <th>Vampire Weekend</th>\n",
       "    </tr>\n",
       "  </thead>\n",
       "  <tbody>\n",
       "    <tr>\n",
       "      <th>Blues Traveler</th>\n",
       "      <td>1</td>\n",
       "      <td>0.540393</td>\n",
       "      <td>0.878426</td>\n",
       "      <td>0.648736</td>\n",
       "      <td>0.624716</td>\n",
       "      <td>0.802569</td>\n",
       "      <td>0.894823</td>\n",
       "      <td>0.924628</td>\n",
       "    </tr>\n",
       "    <tr>\n",
       "      <th>Broken Bells</th>\n",
       "      <td>0.540393</td>\n",
       "      <td>1</td>\n",
       "      <td>0.519197</td>\n",
       "      <td>0.891961</td>\n",
       "      <td>0.391652</td>\n",
       "      <td>0.7788</td>\n",
       "      <td>0.530192</td>\n",
       "      <td>0.371413</td>\n",
       "    </tr>\n",
       "    <tr>\n",
       "      <th>Deadmau5</th>\n",
       "      <td>0.878426</td>\n",
       "      <td>0.519197</td>\n",
       "      <td>1</td>\n",
       "      <td>0.561768</td>\n",
       "      <td>0.305329</td>\n",
       "      <td>0.571946</td>\n",
       "      <td>0.80947</td>\n",
       "      <td>0.825417</td>\n",
       "    </tr>\n",
       "    <tr>\n",
       "      <th>Norah Jones</th>\n",
       "      <td>0.648736</td>\n",
       "      <td>0.891961</td>\n",
       "      <td>0.561768</td>\n",
       "      <td>1</td>\n",
       "      <td>0.560093</td>\n",
       "      <td>0.832577</td>\n",
       "      <td>0.766622</td>\n",
       "      <td>0.563517</td>\n",
       "    </tr>\n",
       "    <tr>\n",
       "      <th>Phoenix</th>\n",
       "      <td>0.624716</td>\n",
       "      <td>0.391652</td>\n",
       "      <td>0.305329</td>\n",
       "      <td>0.560093</td>\n",
       "      <td>1</td>\n",
       "      <td>0.745044</td>\n",
       "      <td>0.5547</td>\n",
       "      <td>0.560241</td>\n",
       "    </tr>\n",
       "    <tr>\n",
       "      <th>Slightly Stoopid</th>\n",
       "      <td>0.802569</td>\n",
       "      <td>0.7788</td>\n",
       "      <td>0.571946</td>\n",
       "      <td>0.832577</td>\n",
       "      <td>0.745044</td>\n",
       "      <td>1</td>\n",
       "      <td>0.724899</td>\n",
       "      <td>0.717939</td>\n",
       "    </tr>\n",
       "    <tr>\n",
       "      <th>The Strokes</th>\n",
       "      <td>0.894823</td>\n",
       "      <td>0.530192</td>\n",
       "      <td>0.80947</td>\n",
       "      <td>0.766622</td>\n",
       "      <td>0.5547</td>\n",
       "      <td>0.724899</td>\n",
       "      <td>1</td>\n",
       "      <td>0.910446</td>\n",
       "    </tr>\n",
       "    <tr>\n",
       "      <th>Vampire Weekend</th>\n",
       "      <td>0.924628</td>\n",
       "      <td>0.371413</td>\n",
       "      <td>0.825417</td>\n",
       "      <td>0.563517</td>\n",
       "      <td>0.560241</td>\n",
       "      <td>0.717939</td>\n",
       "      <td>0.910446</td>\n",
       "      <td>1</td>\n",
       "    </tr>\n",
       "  </tbody>\n",
       "</table>\n",
       "</div>"
      ],
      "text/plain": [
       "                 Blues Traveler Broken Bells  Deadmau5 Norah Jones   Phoenix  \\\n",
       "Blues Traveler                1     0.540393  0.878426    0.648736  0.624716   \n",
       "Broken Bells           0.540393            1  0.519197    0.891961  0.391652   \n",
       "Deadmau5               0.878426     0.519197         1    0.561768  0.305329   \n",
       "Norah Jones            0.648736     0.891961  0.561768           1  0.560093   \n",
       "Phoenix                0.624716     0.391652  0.305329    0.560093         1   \n",
       "Slightly Stoopid       0.802569       0.7788  0.571946    0.832577  0.745044   \n",
       "The Strokes            0.894823     0.530192   0.80947    0.766622    0.5547   \n",
       "Vampire Weekend        0.924628     0.371413  0.825417    0.563517  0.560241   \n",
       "\n",
       "                 Slightly Stoopid The Strokes Vampire Weekend  \n",
       "Blues Traveler           0.802569    0.894823        0.924628  \n",
       "Broken Bells               0.7788    0.530192        0.371413  \n",
       "Deadmau5                 0.571946     0.80947        0.825417  \n",
       "Norah Jones              0.832577    0.766622        0.563517  \n",
       "Phoenix                  0.745044      0.5547        0.560241  \n",
       "Slightly Stoopid                1    0.724899        0.717939  \n",
       "The Strokes              0.724899           1        0.910446  \n",
       "Vampire Weekend          0.717939    0.910446               1  "
      ]
     },
     "execution_count": 58,
     "metadata": {},
     "output_type": "execute_result"
    }
   ],
   "source": [
    "items1"
   ]
  },
  {
   "cell_type": "code",
   "execution_count": 60,
   "metadata": {
    "collapsed": false
   },
   "outputs": [],
   "source": [
    "data_neighbours = pd.DataFrame(index=items1.columns,columns=range(1,9))\n",
    " \n",
    "for i in range(0,len(items1.columns)):\n",
    "    data_neighbours.ix[i,:9] = items1.ix[0:,i].sort_values(ascending=False)[:9].index"
   ]
  },
  {
   "cell_type": "code",
   "execution_count": 61,
   "metadata": {
    "collapsed": false
   },
   "outputs": [
    {
     "data": {
      "text/html": [
       "<div>\n",
       "<table border=\"1\" class=\"dataframe\">\n",
       "  <thead>\n",
       "    <tr style=\"text-align: right;\">\n",
       "      <th></th>\n",
       "      <th>1</th>\n",
       "      <th>2</th>\n",
       "      <th>3</th>\n",
       "      <th>4</th>\n",
       "      <th>5</th>\n",
       "      <th>6</th>\n",
       "      <th>7</th>\n",
       "      <th>8</th>\n",
       "    </tr>\n",
       "  </thead>\n",
       "  <tbody>\n",
       "    <tr>\n",
       "      <th>Blues Traveler</th>\n",
       "      <td>Blues Traveler</td>\n",
       "      <td>Vampire Weekend</td>\n",
       "      <td>The Strokes</td>\n",
       "      <td>Deadmau5</td>\n",
       "      <td>Slightly Stoopid</td>\n",
       "      <td>Norah Jones</td>\n",
       "      <td>Phoenix</td>\n",
       "      <td>Broken Bells</td>\n",
       "    </tr>\n",
       "    <tr>\n",
       "      <th>Broken Bells</th>\n",
       "      <td>Broken Bells</td>\n",
       "      <td>Norah Jones</td>\n",
       "      <td>Slightly Stoopid</td>\n",
       "      <td>Blues Traveler</td>\n",
       "      <td>The Strokes</td>\n",
       "      <td>Deadmau5</td>\n",
       "      <td>Phoenix</td>\n",
       "      <td>Vampire Weekend</td>\n",
       "    </tr>\n",
       "    <tr>\n",
       "      <th>Deadmau5</th>\n",
       "      <td>Deadmau5</td>\n",
       "      <td>Blues Traveler</td>\n",
       "      <td>Vampire Weekend</td>\n",
       "      <td>The Strokes</td>\n",
       "      <td>Slightly Stoopid</td>\n",
       "      <td>Norah Jones</td>\n",
       "      <td>Broken Bells</td>\n",
       "      <td>Phoenix</td>\n",
       "    </tr>\n",
       "    <tr>\n",
       "      <th>Norah Jones</th>\n",
       "      <td>Norah Jones</td>\n",
       "      <td>Broken Bells</td>\n",
       "      <td>Slightly Stoopid</td>\n",
       "      <td>The Strokes</td>\n",
       "      <td>Blues Traveler</td>\n",
       "      <td>Vampire Weekend</td>\n",
       "      <td>Deadmau5</td>\n",
       "      <td>Phoenix</td>\n",
       "    </tr>\n",
       "    <tr>\n",
       "      <th>Phoenix</th>\n",
       "      <td>Phoenix</td>\n",
       "      <td>Slightly Stoopid</td>\n",
       "      <td>Blues Traveler</td>\n",
       "      <td>Vampire Weekend</td>\n",
       "      <td>Norah Jones</td>\n",
       "      <td>The Strokes</td>\n",
       "      <td>Broken Bells</td>\n",
       "      <td>Deadmau5</td>\n",
       "    </tr>\n",
       "    <tr>\n",
       "      <th>Slightly Stoopid</th>\n",
       "      <td>Slightly Stoopid</td>\n",
       "      <td>Norah Jones</td>\n",
       "      <td>Blues Traveler</td>\n",
       "      <td>Broken Bells</td>\n",
       "      <td>Phoenix</td>\n",
       "      <td>The Strokes</td>\n",
       "      <td>Vampire Weekend</td>\n",
       "      <td>Deadmau5</td>\n",
       "    </tr>\n",
       "    <tr>\n",
       "      <th>The Strokes</th>\n",
       "      <td>The Strokes</td>\n",
       "      <td>Vampire Weekend</td>\n",
       "      <td>Blues Traveler</td>\n",
       "      <td>Deadmau5</td>\n",
       "      <td>Norah Jones</td>\n",
       "      <td>Slightly Stoopid</td>\n",
       "      <td>Phoenix</td>\n",
       "      <td>Broken Bells</td>\n",
       "    </tr>\n",
       "    <tr>\n",
       "      <th>Vampire Weekend</th>\n",
       "      <td>Vampire Weekend</td>\n",
       "      <td>Blues Traveler</td>\n",
       "      <td>The Strokes</td>\n",
       "      <td>Deadmau5</td>\n",
       "      <td>Slightly Stoopid</td>\n",
       "      <td>Norah Jones</td>\n",
       "      <td>Phoenix</td>\n",
       "      <td>Broken Bells</td>\n",
       "    </tr>\n",
       "  </tbody>\n",
       "</table>\n",
       "</div>"
      ],
      "text/plain": [
       "                                 1                 2                 3  \\\n",
       "Blues Traveler      Blues Traveler   Vampire Weekend       The Strokes   \n",
       "Broken Bells          Broken Bells       Norah Jones  Slightly Stoopid   \n",
       "Deadmau5                  Deadmau5    Blues Traveler   Vampire Weekend   \n",
       "Norah Jones            Norah Jones      Broken Bells  Slightly Stoopid   \n",
       "Phoenix                    Phoenix  Slightly Stoopid    Blues Traveler   \n",
       "Slightly Stoopid  Slightly Stoopid       Norah Jones    Blues Traveler   \n",
       "The Strokes            The Strokes   Vampire Weekend    Blues Traveler   \n",
       "Vampire Weekend    Vampire Weekend    Blues Traveler       The Strokes   \n",
       "\n",
       "                                4                 5                 6  \\\n",
       "Blues Traveler           Deadmau5  Slightly Stoopid       Norah Jones   \n",
       "Broken Bells       Blues Traveler       The Strokes          Deadmau5   \n",
       "Deadmau5              The Strokes  Slightly Stoopid       Norah Jones   \n",
       "Norah Jones           The Strokes    Blues Traveler   Vampire Weekend   \n",
       "Phoenix           Vampire Weekend       Norah Jones       The Strokes   \n",
       "Slightly Stoopid     Broken Bells           Phoenix       The Strokes   \n",
       "The Strokes              Deadmau5       Norah Jones  Slightly Stoopid   \n",
       "Vampire Weekend          Deadmau5  Slightly Stoopid       Norah Jones   \n",
       "\n",
       "                                7                8  \n",
       "Blues Traveler            Phoenix     Broken Bells  \n",
       "Broken Bells              Phoenix  Vampire Weekend  \n",
       "Deadmau5             Broken Bells          Phoenix  \n",
       "Norah Jones              Deadmau5          Phoenix  \n",
       "Phoenix              Broken Bells         Deadmau5  \n",
       "Slightly Stoopid  Vampire Weekend         Deadmau5  \n",
       "The Strokes               Phoenix     Broken Bells  \n",
       "Vampire Weekend           Phoenix     Broken Bells  "
      ]
     },
     "execution_count": 61,
     "metadata": {},
     "output_type": "execute_result"
    }
   ],
   "source": [
    "data_neighbours"
   ]
  },
  {
   "cell_type": "code",
   "execution_count": 62,
   "metadata": {
    "collapsed": true
   },
   "outputs": [],
   "source": [
    "def getScore(history, similarities):\n",
    "   return sum(history*similarities)/sum(similarities)"
   ]
  },
  {
   "cell_type": "code",
   "execution_count": null,
   "metadata": {
    "collapsed": true
   },
   "outputs": [],
   "source": [
    "data_sims = pd.DataFrame(index=data.index,columns=data.columns)\n",
    "data_sims.ix[:,:1] = data.ix[:,:1]"
   ]
  },
  {
   "cell_type": "code",
   "execution_count": null,
   "metadata": {
    "collapsed": true
   },
   "outputs": [],
   "source": []
  },
  {
   "cell_type": "code",
   "execution_count": null,
   "metadata": {
    "collapsed": true
   },
   "outputs": [],
   "source": []
  }
 ],
 "metadata": {
  "kernelspec": {
   "display_name": "Python 2",
   "language": "python",
   "name": "python2"
  },
  "language_info": {
   "codemirror_mode": {
    "name": "ipython",
    "version": 2
   },
   "file_extension": ".py",
   "mimetype": "text/x-python",
   "name": "python",
   "nbconvert_exporter": "python",
   "pygments_lexer": "ipython2",
   "version": "2.7.11"
  }
 },
 "nbformat": 4,
 "nbformat_minor": 0
}
