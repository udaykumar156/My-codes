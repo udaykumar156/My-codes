{
 "cells": [
  {
   "cell_type": "code",
   "execution_count": 1,
   "metadata": {
    "collapsed": false
   },
   "outputs": [
    {
     "name": "stdout",
     "output_type": "stream",
     "text": [
      "/home/ubuntu/python-recsys-master\n"
     ]
    }
   ],
   "source": [
    "cd /home/ubuntu/python-recsys-master/"
   ]
  },
  {
   "cell_type": "markdown",
   "metadata": {},
   "source": [
    "## recsys library ##"
   ]
  },
  {
   "cell_type": "code",
   "execution_count": 2,
   "metadata": {
    "collapsed": true
   },
   "outputs": [],
   "source": [
    "import recsys.algorithm"
   ]
  },
  {
   "cell_type": "code",
   "execution_count": 3,
   "metadata": {
    "collapsed": true
   },
   "outputs": [],
   "source": [
    "from recsys.algorithm.factorize import SVD"
   ]
  },
  {
   "cell_type": "code",
   "execution_count": 4,
   "metadata": {
    "collapsed": true
   },
   "outputs": [],
   "source": [
    "svd = SVD()"
   ]
  },
  {
   "cell_type": "markdown",
   "metadata": {},
   "source": [
    "### Loading Data ###"
   ]
  },
  {
   "cell_type": "code",
   "execution_count": 5,
   "metadata": {
    "collapsed": true
   },
   "outputs": [],
   "source": [
    "svd.load_data('/home/ubuntu/my_data/ml-1m/ratings.dat', sep='::', format={'col':0, 'row':1, 'value':2, 'ids':int})"
   ]
  },
  {
   "cell_type": "code",
   "execution_count": 16,
   "metadata": {
    "collapsed": false
   },
   "outputs": [
    {
     "data": {
      "text/plain": [
       "SparseMatrix (3260 by 6040)\n",
       "         1          2          12         15         17       ...\n",
       "1193     5.000000   5.000000   4.000000   4.000000   5.000000\n",
       "661      3.000000      ---        ---        ---        ---\n",
       "914      3.000000      ---        ---        ---        ---\n",
       "3408     4.000000      ---        ---     4.000000      ---\n",
       "2355     5.000000      ---        ---        ---     4.000000\n",
       "1197     3.000000      ---        ---        ---        ---\n",
       "1287     5.000000      ---        ---        ---        ---\n",
       "2804     5.000000      ---     5.000000      ---        ---\n",
       "594      4.000000      ---        ---        ---        ---\n",
       "919      4.000000      ---     5.000000      ---        ---\n",
       "595      5.000000      ---        ---        ---     5.000000\n",
       "938      4.000000      ---        ---        ---        ---\n",
       "2398     4.000000      ---        ---        ---        ---\n",
       "2918     4.000000      ---        ---        ---        ---\n",
       "1035     5.000000      ---        ---        ---        ---\n",
       "2791     4.000000      ---        ---        ---        ---\n",
       "2687     3.000000      ---        ---        ---        ---\n",
       "2018     4.000000      ---        ---        ---        ---\n",
       "3105     5.000000   4.000000      ---     3.000000      ---\n",
       "2797     4.000000      ---        ---        ---        ---\n",
       "..."
      ]
     },
     "execution_count": 16,
     "metadata": {},
     "output_type": "execute_result"
    }
   ],
   "source": [
    "svd.get_matrix()"
   ]
  },
  {
   "cell_type": "code",
   "execution_count": null,
   "metadata": {
    "collapsed": true
   },
   "outputs": [],
   "source": []
  },
  {
   "cell_type": "markdown",
   "metadata": {},
   "source": [
    "### Computing SVD ###"
   ]
  },
  {
   "cell_type": "code",
   "execution_count": 6,
   "metadata": {
    "collapsed": false
   },
   "outputs": [],
   "source": [
    "k = 100"
   ]
  },
  {
   "cell_type": "code",
   "execution_count": 7,
   "metadata": {
    "collapsed": true
   },
   "outputs": [],
   "source": [
    "svd.compute(k = k, min_values=10, pre_normalize = None, mean_center=True, post_normalize=True)"
   ]
  },
  {
   "cell_type": "markdown",
   "metadata": {},
   "source": [
    "### Similarity between two movies"
   ]
  },
  {
   "cell_type": "code",
   "execution_count": 8,
   "metadata": {
    "collapsed": true
   },
   "outputs": [],
   "source": [
    "item1 = 1\n",
    "item2 = 2355"
   ]
  },
  {
   "cell_type": "code",
   "execution_count": 9,
   "metadata": {
    "collapsed": false
   },
   "outputs": [
    {
     "data": {
      "text/plain": [
       "0.67706936677314966"
      ]
     },
     "execution_count": 9,
     "metadata": {},
     "output_type": "execute_result"
    }
   ],
   "source": [
    "svd.similarity(item1, item2)"
   ]
  },
  {
   "cell_type": "markdown",
   "metadata": {},
   "source": [
    "### Movies similar to item1"
   ]
  },
  {
   "cell_type": "code",
   "execution_count": 10,
   "metadata": {
    "collapsed": false
   },
   "outputs": [
    {
     "data": {
      "text/plain": [
       "[(1, 0.99999999999999989),\n",
       " (3114, 0.87060391051017294),\n",
       " (2355, 0.67706936677314977),\n",
       " (588, 0.58073514967544992),\n",
       " (595, 0.46031829709744221),\n",
       " (1907, 0.44589398718134976),\n",
       " (364, 0.42908159895577563),\n",
       " (2081, 0.42566581277822424),\n",
       " (3396, 0.42474056361934948),\n",
       " (2761, 0.40439361857576017)]"
      ]
     },
     "execution_count": 10,
     "metadata": {},
     "output_type": "execute_result"
    }
   ],
   "source": [
    "svd.similar(item1)"
   ]
  },
  {
   "cell_type": "markdown",
   "metadata": {},
   "source": [
    "### Rating Prediction"
   ]
  },
  {
   "cell_type": "code",
   "execution_count": 11,
   "metadata": {
    "collapsed": true
   },
   "outputs": [],
   "source": [
    "min_rating = 0.0\n",
    "max_rating = 5.0"
   ]
  },
  {
   "cell_type": "code",
   "execution_count": 12,
   "metadata": {
    "collapsed": true
   },
   "outputs": [],
   "source": [
    "itemid = 1\n",
    "userid = 1"
   ]
  },
  {
   "cell_type": "code",
   "execution_count": 13,
   "metadata": {
    "collapsed": false
   },
   "outputs": [
    {
     "data": {
      "text/plain": [
       "5.0"
      ]
     },
     "execution_count": 13,
     "metadata": {},
     "output_type": "execute_result"
    }
   ],
   "source": [
    "svd.predict(itemid, userid, min_rating, max_rating)"
   ]
  },
  {
   "cell_type": "code",
   "execution_count": 15,
   "metadata": {
    "collapsed": false
   },
   "outputs": [
    {
     "data": {
      "text/plain": [
       "5.0"
      ]
     },
     "execution_count": 15,
     "metadata": {},
     "output_type": "execute_result"
    }
   ],
   "source": [
    "svd.get_matrix().value(itemid, userid)"
   ]
  },
  {
   "cell_type": "markdown",
   "metadata": {},
   "source": [
    "### Recommending movies to User"
   ]
  },
  {
   "cell_type": "code",
   "execution_count": 17,
   "metadata": {
    "collapsed": false
   },
   "outputs": [
    {
     "data": {
      "text/plain": [
       "[(2028, 5.4018452642332546),\n",
       " (527, 5.3498144196809516),\n",
       " (2905, 5.2133848204673132),\n",
       " (318, 5.2052108435955446),\n",
       " (1193, 5.1942189963876562),\n",
       " (3114, 5.1753939214583697),\n",
       " (1, 5.1714259073839521),\n",
       " (2019, 5.1037438278754719),\n",
       " (1178, 5.0962756861446641),\n",
       " (1207, 5.090305272922329)]"
      ]
     },
     "execution_count": 17,
     "metadata": {},
     "output_type": "execute_result"
    }
   ],
   "source": [
    "svd.recommend(userid, is_row=False)"
   ]
  },
  {
   "cell_type": "code",
   "execution_count": 18,
   "metadata": {
    "collapsed": false
   },
   "outputs": [
    {
     "data": {
      "text/plain": [
       "[(869, 6.8215500393190904),\n",
       " (4086, 6.2667649038936908),\n",
       " (549, 6.2394061595542869),\n",
       " (1343, 6.2163075783431427),\n",
       " (1586, 6.039893928886932),\n",
       " (840, 5.9616632765170472),\n",
       " (1676, 5.8962337727810361),\n",
       " (4595, 5.88945710113423),\n",
       " (2691, 5.8735094161364714),\n",
       " (2665, 5.8498694241604259)]"
      ]
     },
     "execution_count": 18,
     "metadata": {},
     "output_type": "execute_result"
    }
   ],
   "source": [
    "svd.recommend(itemid)"
   ]
  },
  {
   "cell_type": "code",
   "execution_count": null,
   "metadata": {
    "collapsed": true
   },
   "outputs": [],
   "source": []
  },
  {
   "cell_type": "code",
   "execution_count": null,
   "metadata": {
    "collapsed": true
   },
   "outputs": [],
   "source": []
  },
  {
   "cell_type": "code",
   "execution_count": null,
   "metadata": {
    "collapsed": true
   },
   "outputs": [],
   "source": []
  },
  {
   "cell_type": "code",
   "execution_count": null,
   "metadata": {
    "collapsed": true
   },
   "outputs": [],
   "source": []
  }
 ],
 "metadata": {
  "kernelspec": {
   "display_name": "Python 2",
   "language": "python",
   "name": "python2"
  },
  "language_info": {
   "codemirror_mode": {
    "name": "ipython",
    "version": 2
   },
   "file_extension": ".py",
   "mimetype": "text/x-python",
   "name": "python",
   "nbconvert_exporter": "python",
   "pygments_lexer": "ipython2",
   "version": "2.7.11"
  }
 },
 "nbformat": 4,
 "nbformat_minor": 0
}
